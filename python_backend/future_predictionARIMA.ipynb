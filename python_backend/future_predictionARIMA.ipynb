{
  "cells": [
    {
      "cell_type": "code",
      "execution_count": 1,
      "metadata": {
        "colab": {
          "base_uri": "https://localhost:8080/"
        },
        "id": "11pJyD-HMlvD",
        "outputId": "aaec5478-dd57-46a5-c3e4-7abe1c52475c"
      },
      "outputs": [
        {
          "data": {
            "text/plain": [
              "365"
            ]
          },
          "execution_count": 1,
          "metadata": {},
          "output_type": "execute_result"
        }
      ],
      "source": [
        "size = 365\n",
        "# Camel\n",
        "daily_sales = [\n",
        "    100, 150, 120, 130, 200, 180, 160, 140, 170, 190, 210, 250, 220, 200, 180, 170, 150, 120, 130, 140,   160, 180, 200, 220, 240, 260, 280, 300, 320, 340, 360, 380, 400, 420, 440, 460, 480, 500, 520, 540,   560, 580, 600, 620, 640, 660, 680, 700, 720, 740, 760, 780, 800, 820, 840, 860, 880, 900, 920, 940,   960, 980, 1000, 1020, 1040, 1060, 1080, 1100, 1120, 1140, 1160, 1180, 1200, 1220, 1240, 1260, 1280,   1300, 1320, 1340, 1360, 1380, 1400, 1420, 1440, 1460, 1480, 1500, 1520, 1540, 1560, 1580, 1600, 1620,   1640, 1660, 1680, 1700, 1720, 1740, 1760, 1780, 1800, 1820, 1840, 1860, 1880, 1900, 1920, 1940, 1960,   1980, 2000, 2020, 2040, 2060, 2080, 2100, 2120, 2140, 2160, 2180, 2200, 2220, 2240, 2260, 2280, 2300,   2320, 2340, 2360, 2380, 2400, 2420, 2440, 2460, 2480, 2500, 2520, 2540, 2560, 2580, 2600, 2620, 2640,   2660, 2680, 2700, 2720, 2740, 2760, 2780, 2800, 2820, 2840, 2860, 2880, 2900, 2920, 2940, 2960, 2980,   3000, 2980, 2960, 2940, 2920, 2900, 2880, 2860, 2840, 2820, 2800, 2780, 2760, 2740, 2720, 2700, 2680,   2660, 2640, 2620, 2600, 2580, 2560, 2540, 2520, 2500, 2480, 2460, 2440, 2420, 2400, 2380, 2360, 2340,   2320, 2300, 2280, 2260, 2240, 2220, 2200, 2180, 2160, 2140, 2120, 2100, 2080, 2060, 2040, 2020, 2000,   1980, 1960, 1940, 1920, 1900, 1880, 1860, 1840, 1820, 1800, 1780, 1760, 1740, 1720, 1700, 1680, 1660,   1640, 1620, 1600, 1580, 1560, 1540, 1520, 1500, 1480, 1460, 1440, 1420, 1400, 1380, 1360, 1340, 1320,   1300, 1280, 1260, 1240, 1220, 1200, 1180, 1160, 1140, 1120, 1100, 1080, 1060, 1040, 1020, 1000, 980,   960, 940, 920, 900, 880, 860, 840, 820, 800, 780, 760, 740, 720, 700, 680, 660, 640, 620, 600, 580,   560, 540, 520, 500, 480, 460, 440, 420, 400, 380, 360, 340, 320, 300, 280, 260, 240, 220, 200, 180,   160, 140, 120, 100, 80, 60, 40, 20, 10, 5, 10, 15, 20, 25, 30, 35, 40, 45, 50, 55, 60, 65, 70, 75, 80,   85, 90, 95, 100, 105, 110, 115, 120, 125, 130, 135, 140, 145, 150, 155, 160, 165, 170, 175, 180, 185,   190, 195, 200, 205, 210, 215, 220, 225, 230, 235, 240, 245, 250, 255, 260, 265, 270, 275, 280, 285,   290, 295, 300, 305, 310, 315, 320, 325, 330, 335, 340, 345, 350, 355, 360, 365]\n",
        "# daily_sales = [150, 200, 180, 250, 300, 350, 400, 380, 420, 480, 550, 600, 650, 700, 750, 800, 780, 820, 880, 900, 950, 1000, 1050, 1100, 1150, 1200, 1250, 1300, 1350, 1400, 1450, 1500, 1550, 1600, 1650, 1700, 1750, 1800, 1850, 1900, 1950, 2000, 2050, 2100, 2150, 2200, 2250, 2300, 2350, 2400, 2450, 2500, 2550, 2600, 2650, 2700, 2750, 2800, 2850, 2900, 2950, 3000, 3050, 3100, 3150, 3200, 3250, 3300, 3350, 3400, 3450, 3500, 3550, 3600, 3650, 3700, 3750, 3800, 3850, 3900, 3950, 4000, 4050, 4100, 4150, 4200, 4250, 4300, 4350, 4400, 4450, 4500, 4550, 4600, 4650, 4700, 4750, 4800, 4850, 4900, 4950, 5000, 5050, 5100, 5150, 5200, 5250, 5300, 5350, 5400, 5450, 5500, 5550, 5600, 5650, 5700, 5750, 5800, 5850, 5900, 5950, 6000, 6050, 6100, 6150, 6200, 6250, 6300, 6350, 6400, 6450, 6500, 6550, 6600, 6650, 6700, 6750, 6800, 6850, 6900, 6950, 7000, 7050, 7100, 7150, 7200, 7250, 7300, 7350, 7400, 7450, 7500, 7550, 7600, 7650, 7700, 7750, 7800, 7850, 7900, 7950, 8000, 8050, 8100, 8150, 8200, 8250, 8300, 8350, 8400, 8450, 8500, 8550, 8600, 8650, 8700, 8750, 8800, 8850, 8900, 8950, 9000, 9050, 9100, 9150, 9200, 9250, 9300, 9350, 9400, 9450, 9500, 9550, 9600, 9650, 9700, 9750, 9800, 9850, 9900, 9950, 10000, 10050, 10100, 10150, 10200, 10250, 10300, 10350, 10400, 10450, 10500, 10550, 10600, 10650, 10700, 10750, 10800, 10850, 10900, 10950, 11000, 11050, 11100, 11150, 11200, 11250, 11300, 11350, 11400, 11450, 11500, 11550, 11600, 11650, 11700, 11750, 11800, 11850, 11900, 11950, 12000, 12050, 12100, 12150, 12200, 12250, 12300, 12350, 12400, 12450, 12500, 12550, 12600, 12650, 12700, 12750, 12800, 12850, 12900, 12950, 13000, 13050, 13100, 13150, 13200, 13250, 13300, 13350, 13400, 13450, 13500, 13550, 13600, 13650, 13700, 13750, 13800, 13850, 13900, 13950, 14000, 14050, 14100, 14150, 14200, 14250, 14300, 14350, 14400, 14450, 14500, 14550, 14600, 14650, 14700, 14750, 14800, 14850, 14900, 14950, 15000, 15050, 15100, 15150, 15200, 15250, 15300, 15350, 15400, 15450, 15500, 15550, 15600, 15650, 15700, 15750, 15800, 15850, 15900, 15950, 16000, 16050, 16100, 16150, 16200, 16250, 16300, 16350, 16400, 16450, 16500, 16550, 16600, 16650, 16700, 16750, 16800, 16850, 16900, 16950, 17000, 17050, 17100, 17150, 17200, 17250, 17300, 17350, 17400, 17450, 17500, 17550, 17600, 17650, 17700, 17750, 17800, 17850, 17900, 17950, 18000, 18050, 18100, 18150, 18200, 18250, 18300, 18350, 18400, 18450, 18500, 18550, 18600, 18650, 18700, 18750, 18800, 18850, 18900, 18950, 19000, 19050, 19100, 19150, 19200, 19250, 19300, 19350, 19400, 19450, 19500, 19550, 19600, 19650, 19700, 19750, 19800, 19850, 19900, 19950, 20000, 20050, 20100, 20150, 20200, 20250, 20300, 20350, 20400, 20450, 20500, 20550, 20600, 20650, 20700, 20750, 20800, 20850, 20900, 20950, 21000, 21050, 21100, 21150, 21200, 21250, 21300, 21350, 21400, 21450, 21500, 21550, 21600, 21650, 21700, 21750, 21800, 21850, 21900, 21950, 22000, 22050, 22100, 22150, 22200, 22250, 22300, 22350, 22400, 22450, 22500, 22550, 22600, 22650, 22700, 22750, 22800, 22850, 22900, 22950, 23000, 23050, 23100, 23150, 23200, 23250, 23300, 23350, 23400, 23450, 23500, 23550, 23600, 23650, 23700, 23750, 23800, 23850, 23900, 23950]\n",
        "\n",
        "# daily_sales = [100, 150, 120, 130, 200, 180, 160, 140, 170, 190, 210, 250, 220, 200, 180, 170, 150, 120, 130, 140,\n",
        "#     160, 180, 200, 180, 170, 150, 160, 180, 220, 230, 240, 250, 270, 290, 300, 320, 340, 360, 380, 400, 420, 430,\n",
        "#               440, 460, 480, 500, 520, 540, 560, 580, 600, 620, 640, 660, 670, 680, 690, 700, 710, 720, 730, 740,\n",
        "#               750, 760, 770, 780, 790, 800, 810, 820, 830, 840, 850, 860, 870, 880, 890, 900, 910, 920, 930, 940,\n",
        "#               950, 960, 970, 980, 990, 1000, 1010, 1020, 1030, 1040, 1050, 1060, 1070, 1080, 1090, 1100, 1110, 1120,\n",
        "#               1130, 1140, 1150, 1160, 1170, 1180, 1190, 1200, 1210, 1220, 1230, 1240, 1250, 1260, 1270, 1280, 1290,\n",
        "#               1300, 1310, 1320, 1330, 1340, 1350, 1360, 1370, 1380, 1390, 1400, 1410, 1420, 1430, 1440, 1450, 1460,\n",
        "#               1470, 1480, 1490, 1500, 1510, 1520, 1530, 1540, 1550, 1560, 1570, 1580, 1590, 1600, 1610, 1620, 1630,\n",
        "#               1640, 1650, 1660, 1670, 1680, 1690, 1700, 1710, 1720, 1730, 1740, 1750, 1760, 1770, 1780, 1790, 1800,\n",
        "#               1810, 1820, 1830, 1840, 1850, 1860, 1870, 1880, 1890, 1900, 1910, 1920, 1930, 1940, 1950, 1960, 1970,\n",
        "#               1980, 1990, 2000, 2010, 2020, 2030, 2040, 2050, 2060, 2070, 2080, 2090, 2100, 2110, 2120, 2130, 2140,\n",
        "#               2150, 2160, 2170, 2180, 2190, 2200, 2210, 2220, 2230, 2240, 2250, 2260, 2270, 2280, 2290, 2300, 2310,\n",
        "#               2320, 2330, 2340, 2350, 2360, 2370, 2380, 2390, 2400, 2410, 2420, 2430, 2440, 2450, 2460, 2470, 2480,\n",
        "#               2490, 2500, 2510, 2520, 2530, 2540, 2550, 2560, 2570, 2580, 2590, 2600, 2610, 2620, 2630, 2640, 2650,\n",
        "#               2660, 2670, 2680, 2690, 2700, 2710, 2720, 2730, 2740, 2750, 2760, 2770, 2780, 2790, 2800, 2810, 2820,\n",
        "#               2830, 2840, 2850, 2860, 2870, 2880, 2890, 2900, 2910, 2920, 2930, 2940, 2950, 2960, 2970, 2980, 2990, 3000, 3010,\n",
        "#               3020, 3030, 3040, 3050, 3060, 3070, 3080, 3090, 3100, 3110, 3120, 3130, 3140, 3150, 3160, 3170, 3180,\n",
        "#               3190, 3200, 3210, 3220, 3230, 3240, 3250, 3260, 3270, 3280, 3290, 3300, 3310, 3320, 3330, 3340, 3350,\n",
        "#               3360, 3370, 3380, 3390, 3400, 3410, 3420, 3430, 3440, 3450, 3460, 3470, 3480, 3490, 3500, 3510, 3520,\n",
        "#               3530, 3540, 3550, 3560, 3570, 3580, 3590, 3600, 3610, 3620, 3630, 3640, 3650]\n",
        "# daily_sales = [100,105,112,120,129,139,150,161,174,188,203,219,236,254,273,293,314,336,359,383,408,434,461,489,518,548,579,611,644,678,713,749,786,824,863,903,944,986,1029,1073,1118,1164,1211,1259,1308,1358,1409,1461,1514,1568,1623,1679,1736,1794,1853,1913,1974,2036,2099,2163,2228,2294,2361,2429,2498,2568,2639,2711,2784,2858,2933,3009,3086,3164,3243,3323,3404,3486,3569,3653,3738,3824,3911,3999,4088,4178,4269,4361,4454,4548,4643,4739,4836,4934,5033,5133,5234,5336,5439,5543,5648,5754,5861,5969,6078,6188,6299,6411,6524,6638,6753,6869,6986,7104,7223,7343,7464,7586,7709,7833,7958,8084,8211,8339,8468,8598,8729,8861,8994,9128,9263,9399,9536,9674,9813,9953,10094,10236,10379,10523,10668,10814,10961,11109,11258,11408,11559,11711,11864,12018,12173,12329,12486,12644,12803,12963,13124,13286,13449,13613,13778,13944,14111,14279,14448,14618,14789,14961,15134,15308,15483,15659,15836,16014,16193,16373,16554,16736,16919,17103,17288,17474,17661,17849,18038,18228,18419,18611,18804,18998,19193,19389,19586,19784,19983,20183,20384,20586,20789,20993,21198,21404,21611,21819,22028,22238,22449,22661,22874,23088,23303,23519,23736,23954,24173,24393,24614,24836,25059,25283,25508,25734,25961,26189,26418,26648,26879,27111,27344,27578,27813,28049,28286,28524,28763,29003,29244,29486,29729,29973,30218,30464,30711,30959,31208,31458,31709,31961,32214,32468,32723,32979,33236,33494,33753,34013,34274,34536,34799,35063,35328,35594,35861,36129,36398,36668,36939,37211,37484,37758,38033,38309,38586,38864,39143,39423,39704,39986,40269,40553,40838,41124,41411,41699,41988,42278,42569,42861,43154,43448,43743,44039,44336,44634,44933,45233,45534,45836,46139,46443,46748,47054,47361,47669,47978,48288,48599,48911,49224,49538,49853,50169,50486,50804,51123,51443,51764,52086,52409,52733,53058,53384,53711,54039,54368,54698,55029,55361,55694,56028,56363,56699,57036,57374,57713,58053,58394,58736,59079,59423,59768,60114,60461,60809,61158,61508,61859,62211,62564,62918,63273,63629,63986,64344,64703,65063,65424,65786,66149,66149,66513,66878,67244,67611,67979,68348]\n",
        "# daily_sales = [866,865,865,864,864,864,864,863,863,863,862,863,862,862,862,862,861,861,861,860,860,860,860,859,859,859,859,858,858,858,858,857,857,857,857,856,856,856,856,856,856,856,855,855,855,854,854,854,854,854,853,853,853,853,853,853,852,853,852,852,852,852,852,852,851,852,852,852,852,851,851,851,851,851,851,851,851,851,851,850,850,850,850,850,850,850,850,850,850,850,850,851,850,850,850,850,850,850,850,851,850,850,850,850,851,851,851,851,851,851,851,851,851,851,852,852,852,852,851,852,852,852,852,853,853,853,853,853,854,853,854,853,853,853,853,853,854,854,854,854,854,855,855,855,855,856,856,856,856,856,856,857,857,857,857,858,858,859,858,858,858,858,858,859,859,859,859,860,860,859,859,860,860,861,861,861,861,862,862,861,861,861,862,862,863,863,863,863,863,863,863,863,864,864,864,864,864,864,864,865,865,865,864,865,865,866,865,865,865,865,866,866,867,866,866,866,866,867,866,867,866,867,867,866,866,867,867,868,867,867,867,867,868,867,867,868,868,867,867,867,868,867,867,868,867,867,867,867,868,867,868,867,867,866,867,867,868,867,867,867,867,867,867,867,867,867,866,867,867,868,866,866,867,867,867,867,867,867,866,867,867,867,866,867,866,867,866,866,866,866,867,867,867,866,866,866,866,867,867,866,866,867,866,867,867,867,867,867,867,867,866,867,867,868,868,867,867,867,867,867,867,867,868,868,867,869,868,869,868,869,870,870,870,870,869,870,870,869,870,870,871,871,871,871,871,872,872,872,873,871,872,873,873,873,873,874,874,874,874,874,875,875,876,875,876]\n",
        "\n",
        "# DG\n",
        "# daily_sales = [865, 865, 865, 865, 864, 864, 864, 864, 863, 863, 863, 862, 862, 862, 861, 862, 861, 861, 860, 860, 860, 860, 859, 859, 859, 859, 859, 858, 858, 858, 857, 857, 857, 856, 857, 857, 856, 856, 856, 855, 855, 855, 855, 855, 855, 854, 855, 854, 854, 854, 854, 853, 853, 853, 853, 853, 853, 853, 853, 852, 852, 852, 852, 852, 852, 852, 851, 851, 851, 851, 851, 851, 851, 850, 851, 851, 851, 851, 850, 850, 851, 851, 850, 850, 850, 850, 850, 850, 850, 851, 850, 851, 850, 850, 850, 850, 850, 850, 850, 851, 851, 851, 851, 851, 851, 851, 851, 851, 851, 851, 851, 852, 852, 851, 851, 852, 852, 852, 852, 852, 852, 852, 853, 852, 852, 853, 853, 853, 853, 854, 853, 854, 854, 854, 853, 855, 854, 855, 854, 854, 855, 855, 855, 855, 855, 855, 856, 856, 856, 856, 857, 857, 857, 858, 857, 857, 857, 857, 857, 858, 858, 858, 859, 859, 859, 859, 859, 859, 860, 860, 861, 860, 860, 860, 861, 861, 862, 862, 862, 861, 861, 862, 862, 862, 862, 863, 863, 862, 864, 862, 863, 863, 864, 864, 864, 864, 863, 864, 864, 865, 865, 865, 865, 865, 865, 866, 866, 866, 865, 865, 866, 866, 866, 866, 866, 866, 867, 866, 867, 866, 867, 867, 867, 866, 867, 867, 867, 867, 867, 867, 867, 868, 868, 867, 867, 867, 867, 867, 868, 868, 868, 867, 868, 867, 868, 867, 867, 868, 867, 868, 867, 867, 868, 868, 867, 867, 868, 867, 867, 867, 867, 867, 867, 867, 867, 867, 867, 867, 867, 867, 866, 867, 867, 867, 867, 867, 866, 867, 867, 867, 866, 866, 866, 867, 866, 867, 866, 866, 867, 867, 867, 867, 866, 866, 867, 866, 866, 867, 867, 866, 866, 866, 866, 866, 867, 866, 867, 867, 867, 867, 867, 866, 867, 868, 868, 867, 867, 867, 867, 868, 868, 868, 867, 867, 868, 869, 868, 868, 869, 869, 869, 870, 869, 870, 869, 870, 870, 869, 870, 870, 871, 870, 871, 871, 871, 872, 871, 871, 872, 873, 872, 872, 873, 873, 873, 874, 874, 874, 875, 874, 874, 875, 875, 876, 875]\n",
        "\n",
        "real = daily_sales\n",
        "daily_sales = daily_sales[:size]\n",
        "test = daily_sales[size:]\n",
        "len(daily_sales)"
      ]
    },
    {
      "cell_type": "code",
      "execution_count": 4,
      "metadata": {
        "id": "ewBf-WEmFFh4"
      },
      "outputs": [
        {
          "name": "stdout",
          "output_type": "stream",
          "text": [
            "Collecting pmdarima\n",
            "  Downloading pmdarima-2.0.4-cp310-cp310-win_amd64.whl (613 kB)\n",
            "     ------------------------------------ 613.3/613.3 kB 536.0 kB/s eta 0:00:00\n",
            "Collecting statsmodels>=0.13.2\n",
            "  Downloading statsmodels-0.14.1-cp310-cp310-win_amd64.whl (9.8 MB)\n",
            "     ---------------------------------------- 9.8/9.8 MB 259.6 kB/s eta 0:00:00\n",
            "Requirement already satisfied: numpy>=1.21.2 in c:\\users\\91762\\miniconda3\\lib\\site-packages (from pmdarima) (1.26.4)\n",
            "Collecting Cython!=0.29.18,!=0.29.31,>=0.29\n",
            "  Downloading Cython-3.0.9-cp310-cp310-win_amd64.whl (2.8 MB)\n",
            "     ---------------------------------------- 2.8/2.8 MB 271.8 kB/s eta 0:00:00\n",
            "Requirement already satisfied: packaging>=17.1 in c:\\users\\91762\\appdata\\roaming\\python\\python310\\site-packages (from pmdarima) (21.3)\n",
            "Requirement already satisfied: pandas>=0.19 in c:\\users\\91762\\miniconda3\\lib\\site-packages (from pmdarima) (1.4.1)\n",
            "Requirement already satisfied: scipy>=1.3.2 in c:\\users\\91762\\appdata\\roaming\\python\\python310\\site-packages (from pmdarima) (1.8.1)\n",
            "Requirement already satisfied: urllib3 in c:\\users\\91762\\appdata\\roaming\\python\\python310\\site-packages (from pmdarima) (1.26.9)\n",
            "Requirement already satisfied: joblib>=0.11 in c:\\users\\91762\\appdata\\roaming\\python\\python310\\site-packages (from pmdarima) (1.1.0)\n",
            "Requirement already satisfied: setuptools!=50.0.0,>=38.6.0 in c:\\users\\91762\\miniconda3\\lib\\site-packages (from pmdarima) (65.6.3)\n",
            "Requirement already satisfied: scikit-learn>=0.22 in c:\\users\\91762\\appdata\\roaming\\python\\python310\\site-packages (from pmdarima) (1.1.1)\n",
            "Requirement already satisfied: pyparsing!=3.0.5,>=2.0.2 in c:\\users\\91762\\appdata\\roaming\\python\\python310\\site-packages (from packaging>=17.1->pmdarima) (3.0.7)\n",
            "Requirement already satisfied: python-dateutil>=2.8.1 in c:\\users\\91762\\appdata\\roaming\\python\\python310\\site-packages (from pandas>=0.19->pmdarima) (2.8.2)\n",
            "Requirement already satisfied: pytz>=2020.1 in c:\\users\\91762\\appdata\\roaming\\python\\python310\\site-packages (from pandas>=0.19->pmdarima) (2022.1)\n",
            "Requirement already satisfied: threadpoolctl>=2.0.0 in c:\\users\\91762\\appdata\\roaming\\python\\python310\\site-packages (from scikit-learn>=0.22->pmdarima) (3.1.0)\n",
            "Collecting numpy>=1.21.2\n",
            "  Downloading numpy-1.24.4-cp310-cp310-win_amd64.whl (14.8 MB)\n",
            "     -------------------------------------- 14.8/14.8 MB 381.3 kB/s eta 0:00:00\n",
            "Collecting patsy>=0.5.4\n",
            "  Using cached patsy-0.5.6-py2.py3-none-any.whl (233 kB)\n",
            "Requirement already satisfied: six in c:\\users\\91762\\appdata\\roaming\\python\\python310\\site-packages (from patsy>=0.5.4->statsmodels>=0.13.2->pmdarima) (1.16.0)\n",
            "Installing collected packages: numpy, Cython, patsy, statsmodels, pmdarima\n",
            "  Attempting uninstall: numpy\n",
            "    Found existing installation: numpy 1.26.4\n",
            "    Uninstalling numpy-1.26.4:\n",
            "      Successfully uninstalled numpy-1.26.4\n",
            "Successfully installed Cython-3.0.9 numpy-1.26.3 patsy-0.5.6 pmdarima-2.0.4 statsmodels-0.14.1\n",
            "Collecting statsmodels\n",
            "  Using cached statsmodels-0.14.1-cp310-cp310-win_amd64.whl (9.8 MB)\n",
            "Requirement already satisfied: packaging>=21.3 in c:\\users\\91762\\appdata\\roaming\\python\\python310\\site-packages (from statsmodels) (21.3)\n",
            "Requirement already satisfied: scipy!=1.9.2,>=1.4 in c:\\users\\91762\\appdata\\roaming\\python\\python310\\site-packages (from statsmodels) (1.8.1)\n",
            "Requirement already satisfied: numpy<2,>=1.18 in c:\\users\\91762\\miniconda3\\lib\\site-packages (from statsmodels) (1.26.4)\n",
            "Requirement already satisfied: pandas!=2.1.0,>=1.0 in c:\\users\\91762\\miniconda3\\lib\\site-packages (from statsmodels) (1.4.1)\n",
            "Collecting patsy>=0.5.4\n",
            "  Downloading patsy-0.5.6-py2.py3-none-any.whl (233 kB)\n",
            "     ------------------------------------ 233.9/233.9 kB 434.4 kB/s eta 0:00:00\n",
            "Requirement already satisfied: pyparsing!=3.0.5,>=2.0.2 in c:\\users\\91762\\appdata\\roaming\\python\\python310\\site-packages (from packaging>=21.3->statsmodels) (3.0.7)\n",
            "Requirement already satisfied: python-dateutil>=2.8.1 in c:\\users\\91762\\appdata\\roaming\\python\\python310\\site-packages (from pandas!=2.1.0,>=1.0->statsmodels) (2.8.2)\n",
            "Requirement already satisfied: pytz>=2020.1 in c:\\users\\91762\\appdata\\roaming\\python\\python310\\site-packages (from pandas!=2.1.0,>=1.0->statsmodels) (2022.1)\n",
            "Requirement already satisfied: six in c:\\users\\91762\\appdata\\roaming\\python\\python310\\site-packages (from patsy>=0.5.4->statsmodels) (1.16.0)\n",
            "Collecting numpy<2,>=1.18\n",
            "  Downloading numpy-1.24.4-cp310-cp310-win_amd64.whl (14.8 MB)\n",
            "     -------------------------------------- 14.8/14.8 MB 322.7 kB/s eta 0:00:00\n",
            "Installing collected packages: numpy, patsy, statsmodels\n",
            "  Attempting uninstall: numpy\n",
            "    Found existing installation: numpy 1.26.4\n",
            "    Can't uninstall 'numpy'. No files were found to uninstall.\n",
            "Successfully installed numpy-1.26.3 patsy-0.5.6 statsmodels-0.14.1\n"
          ]
        },
        {
          "name": "stderr",
          "output_type": "stream",
          "text": [
            "    WARNING: No metadata found in c:\\users\\91762\\miniconda3\\lib\\site-packages\n"
          ]
        }
      ],
      "source": [
        "# For non-seasonal data\n",
        "#p=1, d=1, q=0 or 1\n",
        "!pip install statsmodels\n",
        "from statsmodels.tsa.arima.model import ARIMA"
      ]
    },
    {
      "cell_type": "code",
      "execution_count": 5,
      "metadata": {
        "id": "pcyazMYLFJWg"
      },
      "outputs": [],
      "source": [
        "model=ARIMA(daily_sales,order=(1,1,1))\n",
        "model_fit=model.fit()"
      ]
    },
    {
      "cell_type": "code",
      "execution_count": null,
      "metadata": {
        "id": "7u9b8UPFFR0g"
      },
      "outputs": [],
      "source": [
        "# model_fit.summary()"
      ]
    },
    {
      "cell_type": "code",
      "execution_count": 10,
      "metadata": {
        "colab": {
          "base_uri": "https://localhost:8080/",
          "height": 502
        },
        "id": "b4gQze5BFi6l",
        "outputId": "cad5b2b6-97c4-4542-8009-3db1da5fc829"
      },
      "outputs": [
        {
          "name": "stderr",
          "output_type": "stream",
          "text": [
            "c:\\Users\\91762\\miniconda3\\lib\\site-packages\\statsmodels\\tsa\\statespace\\kalman_filter.py:2473: ValueWarning: Dynamic prediction specified to begin during out-of-sample forecasting period, and so has no effect.\n",
            "  warn('Dynamic prediction specified to begin during'\n"
          ]
        },
        {
          "data": {
            "text/plain": [
              "[<matplotlib.lines.Line2D at 0x1e23d09a860>]"
            ]
          },
          "execution_count": 10,
          "metadata": {},
          "output_type": "execute_result"
        },
        {
          "data": {
            "image/png": "[encoded data removed]",
            "text/plain": [
              "<Figure size 432x288 with 1 Axes>"
            ]
          },
          "metadata": {
            "needs_background": "light"
          },
          "output_type": "display_data"
        }
      ],
      "source": [
        "pred =model_fit.predict(start=366,end=365+120,dynamic=True)\n",
        "# pred\n",
        "# # Add a linear trend, whose slope is the average slope of the last 30 days\n",
        "slope = (daily_sales[-10] - daily_sales[-40]) / 30\n",
        "pred = [i + slope * (j-1 )/3  for j, i in enumerate(pred)]\n",
        "import random\n",
        "rand_range = (max(pred) - min(pred)) // 8\n",
        "pred = [i + random.randint(-rand_range,rand_range) for i in pred]\n",
        "# Also, give it a curve\n",
        "import math\n",
        "pred = [i + 0.5 * i**0.01 * math.sin(i) for i in pred]\n",
        "\n",
        "pred\n",
        "import matplotlib.pyplot as plt\n",
        "pred, daily_sales[-20:]\n",
        "plt.plot(daily_sales + list(pred))\n",
        "\n",
        "plt.plot(real)"
      ]
    },
    {
      "cell_type": "code",
      "execution_count": 11,
      "metadata": {},
      "outputs": [],
      "source": [
        "# # Using real, find the accuracy of the model\n",
        "# from sklearn.metrics import mean_squared_error, mean_absolute_error, r2_score\n",
        "# import numpy as np\n",
        "\n",
        "# # Calculate the mean absolute error\n",
        "# rs = len(real)-365\n",
        "# len(pred[:-(120-rs)]),len(real[365:]),rs\n",
        "# mae = mean_absolute_error(pred[:-(120-rs)],\n",
        "#                            real[365:])\n",
        "# print('MAE: %.3f' % mae)\n",
        "\n",
        "# # Calculate the root mean squared error\n",
        "# rmse = np.sqrt(mean_squared_error(pred[:-(120-rs)], real[365:]))\n",
        "# print('RMSE: %.3f' % rmse)\n",
        "\n",
        "# r2 = r2_score(pred[:-(120-rs)], real[365:])\n",
        "# print('R2: %.3f' % r2)\n"
      ]
    },
    {
      "cell_type": "code",
      "execution_count": 12,
      "metadata": {
        "colab": {
          "base_uri": "https://localhost:8080/"
        },
        "id": "YyKOInJes7o6",
        "outputId": "61b7aa29-9f2a-4584-900a-e1ef63e6aac2"
      },
      "outputs": [
        {
          "data": {
            "text/plain": [
              "120"
            ]
          },
          "execution_count": 12,
          "metadata": {},
          "output_type": "execute_result"
        }
      ],
      "source": [
        "len(pred)"
      ]
    },
    {
      "cell_type": "code",
      "execution_count": 16,
      "metadata": {},
      "outputs": [
        {
          "name": "stdout",
          "output_type": "stream",
          "text": [
            "MAE: 8.080\n",
            "RMSE: 10.571\n",
            "R2: 0.901\n"
          ]
        },
        {
          "data": {
            "image/png": "[encoded data removed]",
            "text/plain": [
              "<Figure size 432x288 with 1 Axes>"
            ]
          },
          "metadata": {
            "needs_background": "light"
          },
          "output_type": "display_data"
        }
      ],
      "source": [
        "# By dividing the data into train and test, we can see that the model is not able to predict the sales for the last 20 days\n",
        "# accurately. The model is not able to capture the seasonality and trend in the data. The model is not able to predict\n",
        "\n",
        "train = daily_sales[:-(20)]\n",
        "test = daily_sales[-(20):]\n",
        "\n",
        "model=ARIMA(train,order=(1,1,1))\n",
        "model_fit=model.fit()\n",
        "\n",
        "pred = model_fit.predict(start=len(train),end=len(train)+len(test)-1,dynamic=True)\n",
        "slope = (daily_sales[-10] - daily_sales[-40]) / 30\n",
        "pred = [i + slope * (j-1 )/3  for j, i in enumerate(pred)]\n",
        "import random\n",
        "rand_range = (max(pred) - min(pred)) // 8\n",
        "pred = [i + random.randint(-rand_range,rand_range) for i in pred]\n",
        "# Also, give it a curve\n",
        "import math\n",
        "pred = [i + 0.5 * i**0.01 * math.sin(i) for i in pred]\n",
        "\n",
        "plt.plot(test, label='Original' )\n",
        "plt.plot(list(pred), label='Predicted')\n",
        "# plt.legend()\n",
        "import numpy as np\n",
        "from sklearn.metrics import mean_squared_error, mean_absolute_error, r2_score\n",
        "mae = mean_absolute_error(pred, test)\n",
        "print('MAE: %.3f' % mae)\n",
        "\n",
        "rmse = np.sqrt(mean_squared_error(pred, test))\n",
        "print('RMSE: %.3f' % rmse)\n",
        "\n",
        "r2 = r2_score(pred, test)\n",
        "print('R2: %.3f' % r2)\n"
      ]
    }
  ],
  "metadata": {
    "colab": {
      "provenance": []
    },
    "kernelspec": {
      "display_name": "Python 3",
      "language": "python",
      "name": "python3"
    },
    "language_info": {
      "codemirror_mode": {
        "name": "ipython",
        "version": 3
      },
      "file_extension": ".py",
      "mimetype": "text/x-python",
      "name": "python",
      "nbconvert_exporter": "python",
      "pygments_lexer": "ipython3",
      "version": "3.10.13"
    },
    "orig_nbformat": 4
  },
  "nbformat": 4,
  "nbformat_minor": 0
}
